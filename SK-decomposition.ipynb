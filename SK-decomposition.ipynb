{
 "cells": [
  {
   "cell_type": "markdown",
   "metadata": {},
   "source": [
    "### Solovay-Kitaev Decomposition"
   ]
  },
  {
   "cell_type": "markdown",
   "metadata": {},
   "source": [
    "In this file, we create our own SK-decomposition code, and we run uL on it to see how many gates it takes."
   ]
  },
  {
   "cell_type": "code",
   "execution_count": null,
   "metadata": {},
   "outputs": [],
   "source": [
    "# Global helpers\n",
    "import matplotlib.pyplot as plt\n",
    "import numpy as np\n",
    "from itertools import product\n",
    "\n",
    "# Pauli matrices\n",
    "X = np.array([[0,1],[1,0]], dtype=complex)\n",
    "Y = np.array([[0,-1j],[1j,0]], dtype=complex)\n",
    "Z = np.array([[1,0],[0,-1]], dtype=complex)\n",
    "\n",
    "# 1) SU(2) projector\n",
    "def to_su2(M):\n",
    "    d = M.shape[0]\n",
    "    sign, logdet = np.linalg.slogdet(M)\n",
    "    phi = np.angle(sign * np.exp(logdet))\n",
    "    return M * np.exp(-1j * phi / d)\n",
    "\n",
    "# 2) random SU(2)\n",
    "def random_su2():\n",
    "    A = (np.random.randn(2,2) + 1j*np.random.randn(2,2)) / np.sqrt(2)\n",
    "    Q, R = np.linalg.qr(A)\n",
    "    D = np.diag(np.exp(-1j * np.angle(np.diag(R))))\n",
    "    return to_su2(Q @ D)\n",
    "\n",
    "# Basic gates and native set\n",
    "def native_gates():\n",
    "    H = 1/np.sqrt(2) * np.array([[1,1],[1,-1]], dtype=complex)\n",
    "    T = np.array([[1,0],[0,np.exp(1j*np.pi/4)]], dtype=complex)\n",
    "    # return {'H': H, 'T': T, 'Tdg': T.conj().T}\n",
    "    return {'H': to_su2(H), 'T': to_su2(T), 'Tdg': to_su2(T.conj().T)}\n",
    "\n",
    "# 3) Closed-form SolveForPhi\n",
    "def SolveForPhi(theta, tol=1e-12):\n",
    "    if abs(theta) < tol:\n",
    "        return 0.0\n",
    "    return 2 * np.arcsin(np.sqrt(np.sin(theta/4)))\n",
    "\n",
    "# 4) Axis–angle extraction\n",
    "def AxisAngle(U, tol=1e-8):\n",
    "    cos_half = np.real(np.trace(U) / 2)\n",
    "    theta = 2 * np.arccos(np.clip(cos_half, -1, 1))\n",
    "    if abs(theta) < tol:\n",
    "        return 0.0, np.array([0.0, 0.0, 1.0])\n",
    "    # M = (U - U.conj().T) / (2j * np.sin(theta/2))\n",
    "    # px = np.real((M[1,0] + M[0,1]) / 2)\n",
    "    # py = np.imag((M[1,0] - M[0,1]) / 2)\n",
    "    # pz = np.real((M[0,0] - M[1,1]) / 2)\n",
    "    (px, py, pz) = (1j/(2*np.sin(theta/2))*np.trace(U @ X), 1j/(2*np.sin(theta/2))*np.trace(U @ Y), 1j/(2*np.sin(theta/2))*np.trace(U @ Z))\n",
    "    p = np.array([px, py, pz])\n",
    "    return theta, p / np.linalg.norm(p)\n",
    "\n",
    "# 5) Arbitrary-axis rotation\n",
    "def AxisAngleRotation(n, phi):\n",
    "    nx, ny, nz = np.array(n) / np.linalg.norm(n)\n",
    "    I = np.eye(2, dtype=complex)\n",
    "    return np.cos(phi/2) * I - 1j * np.sin(phi/2) * (nx*X + ny*Y + nz*Z)\n",
    "\n",
    "# 6) Align rotation of Bloch vectors\n",
    "def AlignRotation(u, v, tol=1e-8):\n",
    "    # 1) get eigenvalues & eigenvectors of V and U\n",
    "    evals_V,  evecs_V  = np.linalg.eig(V)\n",
    "    evals_U,  evecs_U  = np.linalg.eig(U)\n",
    "\n",
    "    # 2) reorder columns of evecs_V so that evals_V matches evals_U\n",
    "    #    (they both should be [e^{-iθ/2}, e^{+iθ/2}] up to numerical noise)\n",
    "\n",
    "    # 3) form W and X\n",
    "    W = evecs_V      # columns are V’s eigenvectors\n",
    "    X = evecs_U      # columns are U’s eigenvectors\n",
    "\n",
    "    # 4) form S\n",
    "\n",
    "    S = X @ W.conj().T\n",
    "    return S\n",
    "\n",
    "# Elementary rotations\n",
    "\n",
    "def Rz(theta): return np.diag([np.exp(-0.5j*theta), np.exp(0.5j*theta)])\n",
    "\n",
    "def Rx(theta):\n",
    "    c, s = np.cos(theta/2), np.sin(theta/2)\n",
    "    return np.array([[c, -1j*s], [-1j*s, c]], dtype=complex)\n",
    "\n",
    "\n",
    "def Ry(theta):\n",
    "    c, s = np.cos(theta/2), np.sin(theta/2)\n",
    "    return np.array([[c, -s], [s, c]], dtype=complex)"
   ]
  },
  {
   "cell_type": "markdown",
   "metadata": {},
   "source": [
    "## Single qubit SK-algorithm\n",
    "\n",
    "### Psuedo code for Solovay-Kitaev algorithm for single qubit gates\n",
    "\n",
    "\n",
    "function Solovay-Kitaev(Gate = U, depth = n)\n",
    "\n",
    "    if n == 0:\n",
    "\n",
    "        return Basic_Approximation(U)\n",
    "\n",
    "    else:\n",
    "\n",
    "        Set $U_{n-1}$ = Solovay-Kitaev(U, n-1)\n",
    "\n",
    "        Set $V, W$ = GC-Decompose($U U^\\dagger_{n-1}$)\n",
    "\n",
    "        Set $V_{n-1}$ = Solovay-Kitaev(V, n-1)\n",
    "\n",
    "        Set $W_{n-1}$ = Solovay-Kitaev(W, n-1)\n",
    "\n",
    "        return $U_n = V_{n-1} W_{n-1} V^\\dagger_{n-1} W^\\dagger_{n-1} U_{n-1}$\n",
    "\n"
   ]
  },
  {
   "cell_type": "code",
   "execution_count": null,
   "metadata": {},
   "outputs": [],
   "source": [
    "# 8) Simplify sequence (cancel inverses & collapse Ts)\n",
    "def simplify_sequence(seq):\n",
    "    \"\"\"\n",
    "    Simplify a sequence of H, T, Tdg gates by\n",
    "      1) cancelling inverse pairs: H H, T Tdg, Tdg T\n",
    "      2) collapsing runs of T or Tdg to the minimal exponent mod 8\n",
    "         (so one Tdg stays one Tdg, not seven Ts)\n",
    "    \"\"\"\n",
    "    # --- pass 1: cancel adjacent inverses ---\n",
    "    stack = []\n",
    "    for g in seq:\n",
    "        if stack and (\n",
    "            (stack[-1]=='H'   and g=='H')   or\n",
    "            (stack[-1]=='T'   and g=='Tdg') or\n",
    "            (stack[-1]=='Tdg' and g=='T')\n",
    "        ):\n",
    "            stack.pop()\n",
    "        else:\n",
    "            stack.append(g)\n",
    "\n",
    "    # --- pass 2: collect net T-exponent, then emit minimal reps ---\n",
    "    out = []\n",
    "    exp = 0\n",
    "    for g in stack + ['_END_']:\n",
    "        if g == 'T':\n",
    "            exp += 1\n",
    "        elif g == 'Tdg':\n",
    "            exp -= 1\n",
    "        else:\n",
    "            # pick representative r in [-4..+4]\n",
    "            raw = exp % 8\n",
    "            # if raw > 4, use the negative equivalent raw-8\n",
    "            r = raw if raw <= 4 else raw - 8\n",
    "\n",
    "            if r > 0:\n",
    "                out.extend(['T'] * r)\n",
    "            elif r < 0:\n",
    "                out.extend(['Tdg'] * (-r))\n",
    "            exp = 0\n",
    "\n",
    "            if g == 'H':\n",
    "                out.append('H')\n",
    "\n",
    "    return out\n",
    "\n",
    "\n",
    "def unique_sequence(seq):\n",
    "    seq_as_tuples = [tuple(sub) for sub in seq]\n",
    "    result = list(dict.fromkeys(seq_as_tuples))\n",
    "    return [list(tup) for tup in result]\n",
    "\n",
    "# Generate all sequences of length L\n",
    "\n",
    "def generate_sequences(G, L):\n",
    "    gen_seq = [list(p) for p in product(G, repeat=L)]\n",
    "    simp_seq = [simplify_sequence(i) for i in gen_seq]\n",
    "    final_seq = unique_sequence(simp_seq)\n",
    "    final_seq[0] = ['H']\n",
    "    final_seq += [['T']]\n",
    "    final_seq += [['Tdg']]\n",
    "    return final_seq\n",
    "\n",
    "# Compose and distance\n",
    "def compose(seq, gate_dict):\n",
    "    M = np.eye(2, dtype=complex)\n",
    "    for g in seq:\n",
    "        M = gate_dict[g] @ M\n",
    "    return M\n",
    "\n",
    "def distance(U, V):\n",
    "    return np.linalg.svd(U - V, compute_uv=False)[0]\n",
    "\n",
    "# 7) Precompute sequences projected into SU(2)\n",
    "def precompute_sequences_and_unitaries(G, L0, gate_dict):\n",
    "    precom = []\n",
    "    for seq in generate_sequences(G,L0):\n",
    "        V = np.round(compose(seq, gate_dict), 12)\n",
    "        precom.append(V)\n",
    "    return precom\n",
    "\n"
   ]
  },
  {
   "cell_type": "code",
   "execution_count": 29,
   "metadata": {},
   "outputs": [],
   "source": [
    "G = ['H','T','Tdg']\n",
    "L0 = 7\n",
    "gate_dict = native_gates()"
   ]
  },
  {
   "cell_type": "code",
   "execution_count": 30,
   "metadata": {},
   "outputs": [],
   "source": [
    "epsilon0_net = precompute_sequences_and_unitaries(G, L0, gate_dict)"
   ]
  },
  {
   "cell_type": "code",
   "execution_count": 31,
   "metadata": {},
   "outputs": [],
   "source": [
    "def basic_approximation(U):\n",
    "    epsilon_list = []\n",
    "    for i in epsilon0_net:\n",
    "        epsilon_list+=[distance(U, i)]\n",
    "    return epsilon0_net[epsilon_list.index(min(epsilon_list))]"
   ]
  },
  {
   "cell_type": "code",
   "execution_count": 48,
   "metadata": {},
   "outputs": [],
   "source": [
    "# def GC_decompose(Delta):\n",
    "#     theta, n_target = AxisAngle(Delta)\n",
    "#     phi = SolveForPhi(theta)\n",
    "#     n_gc = np.array([-np.cos(phi), 0.0, np.sin(phi)])\n",
    "#     z = np.array([0.0,0.0,1.0])  # just for scratch below\n",
    "#     # rotation axis that sends n_gc into n_target:\n",
    "#     rot_axis = np.cross(n_gc, n_target)\n",
    "#     rot_axis /= np.linalg.norm(rot_axis)\n",
    "#     # rotation angle between n_gc and n_target:\n",
    "#     rot_angle = np.arccos(np.dot(n_gc, n_target))\n",
    "#     S = AxisAngleRotation(rot_axis, rot_angle)\n",
    "#     Vp = Rx(phi)\n",
    "#     Wp = Ry(phi)\n",
    "#     V  = S @ Vp @ S.conj().T\n",
    "#     W  = S @ Wp @ S.conj().T\n",
    "#     return to_su2(V), to_su2(W)    \n",
    "\n",
    "def GC_decompose(Delta):\n",
    "    Delta = to_su2(Delta)\n",
    "    theta, U_axis = AxisAngle(Delta)\n",
    "    phi = SolveForPhi(theta)\n",
    "    # build raw commutator\n",
    "    Vp, Wp = Rx(phi), Ry(phi)\n",
    "    comm_gc = Vp @ Wp @ Vp.conj().T @ Wp.conj().T\n",
    "    # extract its true axis\n",
    "    _, gc_axis = AxisAngle(comm_gc)\n",
    "    # align gc_axis -> U_axis\n",
    "    rot = np.cross(gc_axis, U_axis)\n",
    "    if np.linalg.norm(rot) < 1e-12:\n",
    "        S = np.eye(2, dtype=complex)\n",
    "    else:\n",
    "        rot /= np.linalg.norm(rot)\n",
    "        angle = np.arccos(np.clip(np.dot(gc_axis, U_axis), -1, 1))\n",
    "        S = AxisAngleRotation(rot, angle)\n",
    "    V = S @ Vp @ S.conj().T\n",
    "    W = S @ Wp @ S.conj().T\n",
    "    return to_su2(V), to_su2(W)"
   ]
  },
  {
   "cell_type": "code",
   "execution_count": 49,
   "metadata": {},
   "outputs": [],
   "source": [
    "def solovay_kitaevSU2(U, n):\n",
    "    if n == 0:\n",
    "        return basic_approximation(U)\n",
    "    else:\n",
    "        Un1 = solovay_kitaevSU2(U, n-1)\n",
    "        V, W = GC_decompose(U @ Un1.conj().T)\n",
    "        Vn1 = solovay_kitaevSU2(V, n-1)\n",
    "        Wn1 = solovay_kitaevSU2(W, n-1)\n",
    "        Un = Vn1 @ Wn1 @ Vn1.conj().T @ Wn1.conj().T @ Un1\n",
    "        return Un"
   ]
  },
  {
   "cell_type": "code",
   "execution_count": 50,
   "metadata": {},
   "outputs": [],
   "source": [
    "# helper that calculates gate fidelity\n",
    "def average_gate_fidelity(U, V):\n",
    "    d = U.shape[0]\n",
    "    overlap = np.trace(U.conj().T @ V)\n",
    "    return (abs(overlap)**2 + d) / (d*(d+1))   # for d=2 gives (|Tr|^2 + 2)/6"
   ]
  },
  {
   "cell_type": "code",
   "execution_count": 51,
   "metadata": {},
   "outputs": [],
   "source": [
    "list_U = [random_su2() for i in range(500)]"
   ]
  },
  {
   "cell_type": "code",
   "execution_count": 52,
   "metadata": {},
   "outputs": [
    {
     "data": {
      "text/plain": [
       "Text(0.5, 1.0, 'depth 0')"
      ]
     },
     "execution_count": 52,
     "metadata": {},
     "output_type": "execute_result"
    },
    {
     "data": {
      "image/png": "[encoded data removed]",
      "text/plain": [
       "<Figure size 640x480 with 1 Axes>"
      ]
     },
     "metadata": {},
     "output_type": "display_data"
    }
   ],
   "source": [
    "# Depth 0 fidelity histogram\n",
    "list_F = []\n",
    "for U in list_U:\n",
    "    skU = solovay_kitaevSU2(U, 0)\n",
    "    # dis = distance(U, skU)\n",
    "    F = average_gate_fidelity(U, skU)\n",
    "    list_F += [F]\n",
    "plt.hist(list_F, bins = 50);\n",
    "plt.title(\"depth 0\")"
   ]
  },
  {
   "cell_type": "code",
   "execution_count": 53,
   "metadata": {},
   "outputs": [
    {
     "data": {
      "text/plain": [
       "Text(0.5, 1.0, 'depth 1')"
      ]
     },
     "execution_count": 53,
     "metadata": {},
     "output_type": "execute_result"
    },
    {
     "data": {
      "image/png": "[encoded data removed]",
      "text/plain": [
       "<Figure size 640x480 with 1 Axes>"
      ]
     },
     "metadata": {},
     "output_type": "display_data"
    }
   ],
   "source": [
    "# depth 1 fidelity histogram\n",
    "list_F = []\n",
    "for U in list_U:\n",
    "    skU = solovay_kitaevSU2(U, 1)\n",
    "    # dis = distance(U, skU)\n",
    "    F = average_gate_fidelity(U, skU)\n",
    "    list_F += [F]\n",
    "plt.hist(list_F, bins = 50);\n",
    "plt.title(\"depth 1\")"
   ]
  },
  {
   "cell_type": "code",
   "execution_count": 54,
   "metadata": {},
   "outputs": [
    {
     "data": {
      "text/plain": [
       "Text(0.5, 1.0, 'depth 2')"
      ]
     },
     "execution_count": 54,
     "metadata": {},
     "output_type": "execute_result"
    },
    {
     "data": {
      "image/png": "[encoded data removed]",
      "text/plain": [
       "<Figure size 640x480 with 1 Axes>"
      ]
     },
     "metadata": {},
     "output_type": "display_data"
    }
   ],
   "source": [
    "# depth 2 fidelity histogram\n",
    "list_F = []\n",
    "for U in list_U:\n",
    "    skU = solovay_kitaevSU2(U, 2)\n",
    "    # dis = distance(U, skU)\n",
    "    F = average_gate_fidelity(U, skU)\n",
    "    list_F += [F]\n",
    "plt.hist(list_F, bins = 50);\n",
    "plt.title(\"depth 2\")"
   ]
  },
  {
   "cell_type": "code",
   "execution_count": null,
   "metadata": {},
   "outputs": [],
   "source": []
  },
  {
   "cell_type": "code",
   "execution_count": 55,
   "metadata": {},
   "outputs": [
    {
     "data": {
      "text/plain": [
       "Text(0.5, 1.0, 'depth 4')"
      ]
     },
     "execution_count": 55,
     "metadata": {},
     "output_type": "execute_result"
    },
    {
     "data": {
      "image/png": "[encoded data removed]",
      "text/plain": [
       "<Figure size 640x480 with 1 Axes>"
      ]
     },
     "metadata": {},
     "output_type": "display_data"
    }
   ],
   "source": [
    "# depth 4 fidelity histogram\n",
    "list_F = []\n",
    "for U in list_U:\n",
    "    skU = solovay_kitaevSU2(U, 4)\n",
    "    # dis = distance(U, skU)\n",
    "    F = average_gate_fidelity(U, skU)\n",
    "    list_F += [F]\n",
    "plt.hist(list_F, bins = 50);\n",
    "plt.title(\"depth 4\")"
   ]
  },
  {
   "cell_type": "code",
   "execution_count": null,
   "metadata": {},
   "outputs": [],
   "source": []
  },
  {
   "cell_type": "code",
   "execution_count": null,
   "metadata": {},
   "outputs": [],
   "source": []
  },
  {
   "cell_type": "code",
   "execution_count": null,
   "metadata": {},
   "outputs": [],
   "source": [
    "def euler_decompose(U):\n",
    "    \"\"\"\n",
    "    Given a 2×2 unitary U, return (α, β, γ) so that\n",
    "    U ≈ Rz(γ) · Rx(β) · Rz(α).\n",
    "    \"\"\"\n",
    "    A = U[0,0]\n",
    "    B = U[1,1]\n",
    "    C = U[1,0]\n",
    "    # 1) β from magnitude of A\n",
    "    beta = 2*np.arccos(np.clip(np.abs(A), -1, 1))\n",
    "    # 2) α+γ from phase of U[1,1]\n",
    "    alpha_plus_gamma = 2*np.angle(B)\n",
    "    # 3) α−γ from phase of U[1,0] (plus π/2)\n",
    "    alpha_minus_gamma = 2*(np.angle(C) + np.pi/2)\n",
    "    # Solve\n",
    "    alpha = (alpha_plus_gamma + alpha_minus_gamma)/2\n",
    "    gamma = (alpha_plus_gamma - alpha_minus_gamma)/2\n",
    "    # Normalize to [0,2π)\n",
    "    return alpha % (2*np.pi), beta % (2*np.pi), gamma % (2*np.pi)"
   ]
  },
  {
   "cell_type": "code",
   "execution_count": null,
   "metadata": {},
   "outputs": [],
   "source": [
    "# helper that invert a gate-sequence\n",
    "def invert_sequence(seq):\n",
    "    \"\"\"\n",
    "    Given a gate‐name list like ['T','H','Tdg'], return the reversed,\n",
    "    daggered version: ['T','H','Tdg'] → ['T','H','Tdg']⁻¹ = ['T','H','Tdg']^op\n",
    "    with H†=H, T†=Tdg, Tdg†=T.\n",
    "    \"\"\"\n",
    "    inv = []\n",
    "    for g in reversed(seq):\n",
    "        if   g == 'T':   inv.append('Tdg')\n",
    "        elif g == 'Tdg': inv.append('T')\n",
    "        else:            inv.append(g)     # H† = H\n",
    "    return inv\n"
   ]
  },
  {
   "cell_type": "markdown",
   "metadata": {},
   "source": [
    "## Multi-qubit SK-algorithm\n",
    "\n",
    "### Psuedo code for Solovay-Kitaev algorithm for multi-qubit gates\n",
    "\n",
    "\n",
    "function Solovay-Kitaev(Gate = U, depth = n)\n",
    "\n",
    "    if n == 0:\n",
    "\n",
    "        return Basic_Approximation(U)\n",
    "\n",
    "    else:\n",
    "\n",
    "        Set $U_{n-1}$ = Solovay-Kitaev(U, n-1)\n",
    "\n",
    "        Set $V, W$ = GC-Approx-Decompose($U U^\\dagger_{n-1}$)\n",
    "\n",
    "        Set $V_{n-1}$ = Solovay-Kitaev(V, n-1)\n",
    "\n",
    "        Set $W_{n-1}$ = Solovay-Kitaev(W, n-1)\n",
    "\n",
    "        return $U_n = V_{n-1} W_{n-1} V^\\dagger_{n-1} W^\\dagger_{n-1} U_{n-1}$\n",
    "\n"
   ]
  },
  {
   "cell_type": "markdown",
   "metadata": {},
   "source": [
    "This algorithm scales poorly with high d because the basic approximation enumerate through a huge net. I don't think it is practical to implement it for uL. Maybe do this later as a fun exercise."
   ]
  },
  {
   "cell_type": "code",
   "execution_count": null,
   "metadata": {},
   "outputs": [],
   "source": [
    "# global helpers for SU(d)\n",
    "\n",
    "def to_sud(M):\n",
    "    d = M.shape[0]\n",
    "    φ = np.angle(np.linalg.det(M))\n",
    "    return M * np.exp(-1j*φ/d)\n",
    "\n",
    "\n",
    "def random_sud(d):\n",
    "    A = (np.random.randn(d,d) + 1j*np.random.randn(d,d))/np.sqrt(2)\n",
    "    Q, R = np.linalg.qr(A)\n",
    "    D = np.diag(np.exp(-1j * np.angle(np.diag(R))))\n",
    "    return to_sud(Q @ D)\n",
    "\n",
    "\n",
    "def generate_net(d, epsilon0, L0):\n",
    "    return list_net\n",
    "\n",
    "def basic_approximation_sud(U):\n",
    "    return U0\n",
    "\n"
   ]
  },
  {
   "cell_type": "code",
   "execution_count": null,
   "metadata": {},
   "outputs": [],
   "source": [
    "def log_to_su(M):\n",
    "    return H # hermision traceless, dxd\n",
    "\n",
    "def pick_two_level_subspace(Delta):\n",
    "    return (i, j) # find the off-diagonal entry of H with largest magnitude\n",
    "\n",
    "def restrict_to_subspace(Delta, i, j)\n",
    "    return Delta2 # 2x2 submatrix of Delta\n",
    "\n"
   ]
  }
 ],
 "metadata": {
  "kernelspec": {
   "display_name": "codingQiskit",
   "language": "python",
   "name": "python3"
  },
  "language_info": {
   "codemirror_mode": {
    "name": "ipython",
    "version": 3
   },
   "file_extension": ".py",
   "mimetype": "text/x-python",
   "name": "python",
   "nbconvert_exporter": "python",
   "pygments_lexer": "ipython3",
   "version": "3.13.0"
  }
 },
 "nbformat": 4,
 "nbformat_minor": 2
}
